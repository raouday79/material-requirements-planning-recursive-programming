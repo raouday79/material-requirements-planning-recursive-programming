{
 "cells": [
  {
   "cell_type": "code",
   "execution_count": 35,
   "id": "1ca4c50d",
   "metadata": {},
   "outputs": [],
   "source": [
    "import pandas as pd\n",
    "import numpy as np"
   ]
  },
  {
   "cell_type": "code",
   "execution_count": 49,
   "id": "ac9f08b3",
   "metadata": {},
   "outputs": [
    {
     "data": {
      "text/html": [
       "<div>\n",
       "<style scoped>\n",
       "    .dataframe tbody tr th:only-of-type {\n",
       "        vertical-align: middle;\n",
       "    }\n",
       "\n",
       "    .dataframe tbody tr th {\n",
       "        vertical-align: top;\n",
       "    }\n",
       "\n",
       "    .dataframe thead th {\n",
       "        text-align: right;\n",
       "    }\n",
       "</style>\n",
       "<table border=\"1\" class=\"dataframe\">\n",
       "  <thead>\n",
       "    <tr style=\"text-align: right;\">\n",
       "      <th></th>\n",
       "      <th>Production Qty</th>\n",
       "      <th>Product Name</th>\n",
       "      <th>Component Part Number</th>\n",
       "      <th>Component Name</th>\n",
       "      <th>Quantity</th>\n",
       "      <th>Units</th>\n",
       "    </tr>\n",
       "  </thead>\n",
       "  <tbody>\n",
       "    <tr>\n",
       "      <th>0</th>\n",
       "      <td>1</td>\n",
       "      <td>Final Product A</td>\n",
       "      <td>CHM001</td>\n",
       "      <td>Chemical A</td>\n",
       "      <td>1000</td>\n",
       "      <td>Kilograms</td>\n",
       "    </tr>\n",
       "    <tr>\n",
       "      <th>1</th>\n",
       "      <td>1</td>\n",
       "      <td>Final Product A</td>\n",
       "      <td>CHM002</td>\n",
       "      <td>Chemical B</td>\n",
       "      <td>500</td>\n",
       "      <td>Kilograms</td>\n",
       "    </tr>\n",
       "    <tr>\n",
       "      <th>2</th>\n",
       "      <td>1</td>\n",
       "      <td>Final Product A</td>\n",
       "      <td>CHM003</td>\n",
       "      <td>Chemical C</td>\n",
       "      <td>300</td>\n",
       "      <td>Kilograms</td>\n",
       "    </tr>\n",
       "    <tr>\n",
       "      <th>3</th>\n",
       "      <td>1</td>\n",
       "      <td>Final Product A</td>\n",
       "      <td>Intermediate X</td>\n",
       "      <td>Intermediate X</td>\n",
       "      <td>1</td>\n",
       "      <td>Kilograms</td>\n",
       "    </tr>\n",
       "    <tr>\n",
       "      <th>4</th>\n",
       "      <td>1</td>\n",
       "      <td>Intermediate X</td>\n",
       "      <td>CHM002</td>\n",
       "      <td>Chemical B</td>\n",
       "      <td>200</td>\n",
       "      <td>Kilograms</td>\n",
       "    </tr>\n",
       "  </tbody>\n",
       "</table>\n",
       "</div>"
      ],
      "text/plain": [
       "   Production Qty     Product Name Component Part Number  Component Name  \\\n",
       "0               1  Final Product A                CHM001      Chemical A   \n",
       "1               1  Final Product A                CHM002      Chemical B   \n",
       "2               1  Final Product A                CHM003      Chemical C   \n",
       "3               1  Final Product A        Intermediate X  Intermediate X   \n",
       "4               1   Intermediate X                CHM002      Chemical B   \n",
       "\n",
       "   Quantity      Units  \n",
       "0      1000  Kilograms  \n",
       "1       500  Kilograms  \n",
       "2       300  Kilograms  \n",
       "3         1  Kilograms  \n",
       "4       200  Kilograms  "
      ]
     },
     "execution_count": 49,
     "metadata": {},
     "output_type": "execute_result"
    }
   ],
   "source": [
    "bom_df  = pd.read_csv('./bom.csv')\n",
    "bom_df.head()"
   ]
  },
  {
   "cell_type": "code",
   "execution_count": 37,
   "id": "82b95464",
   "metadata": {},
   "outputs": [
    {
     "data": {
      "text/html": [
       "<div>\n",
       "<style scoped>\n",
       "    .dataframe tbody tr th:only-of-type {\n",
       "        vertical-align: middle;\n",
       "    }\n",
       "\n",
       "    .dataframe tbody tr th {\n",
       "        vertical-align: top;\n",
       "    }\n",
       "\n",
       "    .dataframe thead th {\n",
       "        text-align: right;\n",
       "    }\n",
       "</style>\n",
       "<table border=\"1\" class=\"dataframe\">\n",
       "  <thead>\n",
       "    <tr style=\"text-align: right;\">\n",
       "      <th></th>\n",
       "      <th>Sr. No</th>\n",
       "      <th>Product Name</th>\n",
       "      <th>Demand Quantity</th>\n",
       "    </tr>\n",
       "  </thead>\n",
       "  <tbody>\n",
       "    <tr>\n",
       "      <th>0</th>\n",
       "      <td>1</td>\n",
       "      <td>Final Product A</td>\n",
       "      <td>10</td>\n",
       "    </tr>\n",
       "    <tr>\n",
       "      <th>1</th>\n",
       "      <td>2</td>\n",
       "      <td>Final Product B</td>\n",
       "      <td>20</td>\n",
       "    </tr>\n",
       "  </tbody>\n",
       "</table>\n",
       "</div>"
      ],
      "text/plain": [
       "   Sr. No     Product Name  Demand Quantity\n",
       "0       1  Final Product A               10\n",
       "1       2  Final Product B               20"
      ]
     },
     "execution_count": 37,
     "metadata": {},
     "output_type": "execute_result"
    }
   ],
   "source": [
    "demand_df = pd.read_csv('./demand.csv')\n",
    "demand_df.head()"
   ]
  },
  {
   "cell_type": "code",
   "execution_count": 39,
   "id": "4fe5317f",
   "metadata": {},
   "outputs": [],
   "source": [
    "mrp_dict = {}"
   ]
  },
  {
   "cell_type": "code",
   "execution_count": 40,
   "id": "59559dac",
   "metadata": {},
   "outputs": [],
   "source": [
    "def calulate_requirement(product_name, qty, bom_df:pd.DataFrame):\n",
    "    df_tmp = bom_df[bom_df['Product Name']==product_name]\n",
    "    for i, r in df_tmp.iterrows():\n",
    "        qty_add = (qty*r['Quantity'])/r['Production Qty']\n",
    "        bom_qty = mrp_dict.get(r['Component Name'],0)\n",
    "        mrp_dict[r['Component Name']] = bom_qty+qty_add\n",
    "        calulate_requirement(r['Component Name'],qty_add,bom_df)\n",
    "        "
   ]
  },
  {
   "cell_type": "code",
   "execution_count": 41,
   "id": "ee52da39",
   "metadata": {},
   "outputs": [],
   "source": [
    "for i,r in demand_df.iterrows():\n",
    "    calulate_requirement(r['Product Name'],r['Demand Quantity'], bom_df)"
   ]
  },
  {
   "cell_type": "code",
   "execution_count": 42,
   "id": "455e4ace",
   "metadata": {},
   "outputs": [
    {
     "data": {
      "text/plain": [
       "{'Chemical A': 38000.0,\n",
       " 'Chemical B': 7000.0,\n",
       " 'Chemical C': 4500.0,\n",
       " 'Intermediate X': 10.0,\n",
       " 'Chemical E': 500.0,\n",
       " 'Raw Material 1': 20000.0,\n",
       " 'Raw Material 2': 12000.0,\n",
       " 'Chemical D': 14000.0,\n",
       " 'Intermediate Y': 20.0,\n",
       " 'Intermediate Z': 1600.0,\n",
       " 'Chemical G': 112000.0,\n",
       " 'Chemical H': 160000.0,\n",
       " 'Raw Material 4': 40000.0,\n",
       " 'Raw Material 5': 24000.0}"
      ]
     },
     "execution_count": 42,
     "metadata": {},
     "output_type": "execute_result"
    }
   ],
   "source": [
    "mrp_dict"
   ]
  },
  {
   "cell_type": "code",
   "execution_count": 45,
   "id": "9701e189",
   "metadata": {},
   "outputs": [
    {
     "data": {
      "text/html": [
       "<div>\n",
       "<style scoped>\n",
       "    .dataframe tbody tr th:only-of-type {\n",
       "        vertical-align: middle;\n",
       "    }\n",
       "\n",
       "    .dataframe tbody tr th {\n",
       "        vertical-align: top;\n",
       "    }\n",
       "\n",
       "    .dataframe thead th {\n",
       "        text-align: right;\n",
       "    }\n",
       "</style>\n",
       "<table border=\"1\" class=\"dataframe\">\n",
       "  <thead>\n",
       "    <tr style=\"text-align: right;\">\n",
       "      <th></th>\n",
       "      <th>Component Name</th>\n",
       "      <th>Quantity</th>\n",
       "    </tr>\n",
       "  </thead>\n",
       "  <tbody>\n",
       "    <tr>\n",
       "      <th>0</th>\n",
       "      <td>Chemical A</td>\n",
       "      <td>38000.0</td>\n",
       "    </tr>\n",
       "    <tr>\n",
       "      <th>1</th>\n",
       "      <td>Chemical B</td>\n",
       "      <td>7000.0</td>\n",
       "    </tr>\n",
       "    <tr>\n",
       "      <th>2</th>\n",
       "      <td>Chemical C</td>\n",
       "      <td>4500.0</td>\n",
       "    </tr>\n",
       "    <tr>\n",
       "      <th>3</th>\n",
       "      <td>Intermediate X</td>\n",
       "      <td>10.0</td>\n",
       "    </tr>\n",
       "    <tr>\n",
       "      <th>4</th>\n",
       "      <td>Chemical E</td>\n",
       "      <td>500.0</td>\n",
       "    </tr>\n",
       "    <tr>\n",
       "      <th>5</th>\n",
       "      <td>Raw Material 1</td>\n",
       "      <td>20000.0</td>\n",
       "    </tr>\n",
       "    <tr>\n",
       "      <th>6</th>\n",
       "      <td>Raw Material 2</td>\n",
       "      <td>12000.0</td>\n",
       "    </tr>\n",
       "    <tr>\n",
       "      <th>7</th>\n",
       "      <td>Chemical D</td>\n",
       "      <td>14000.0</td>\n",
       "    </tr>\n",
       "    <tr>\n",
       "      <th>8</th>\n",
       "      <td>Intermediate Y</td>\n",
       "      <td>20.0</td>\n",
       "    </tr>\n",
       "    <tr>\n",
       "      <th>9</th>\n",
       "      <td>Intermediate Z</td>\n",
       "      <td>1600.0</td>\n",
       "    </tr>\n",
       "    <tr>\n",
       "      <th>10</th>\n",
       "      <td>Chemical G</td>\n",
       "      <td>112000.0</td>\n",
       "    </tr>\n",
       "    <tr>\n",
       "      <th>11</th>\n",
       "      <td>Chemical H</td>\n",
       "      <td>160000.0</td>\n",
       "    </tr>\n",
       "    <tr>\n",
       "      <th>12</th>\n",
       "      <td>Raw Material 4</td>\n",
       "      <td>40000.0</td>\n",
       "    </tr>\n",
       "    <tr>\n",
       "      <th>13</th>\n",
       "      <td>Raw Material 5</td>\n",
       "      <td>24000.0</td>\n",
       "    </tr>\n",
       "  </tbody>\n",
       "</table>\n",
       "</div>"
      ],
      "text/plain": [
       "    Component Name  Quantity\n",
       "0       Chemical A   38000.0\n",
       "1       Chemical B    7000.0\n",
       "2       Chemical C    4500.0\n",
       "3   Intermediate X      10.0\n",
       "4       Chemical E     500.0\n",
       "5   Raw Material 1   20000.0\n",
       "6   Raw Material 2   12000.0\n",
       "7       Chemical D   14000.0\n",
       "8   Intermediate Y      20.0\n",
       "9   Intermediate Z    1600.0\n",
       "10      Chemical G  112000.0\n",
       "11      Chemical H  160000.0\n",
       "12  Raw Material 4   40000.0\n",
       "13  Raw Material 5   24000.0"
      ]
     },
     "execution_count": 45,
     "metadata": {},
     "output_type": "execute_result"
    }
   ],
   "source": [
    "mrp_df = pd.DataFrame(list(mrp_dict.items()), columns=['Component Name','Quantity'])\n",
    "mrp_df"
   ]
  },
  {
   "cell_type": "code",
   "execution_count": 46,
   "id": "8b69b57c",
   "metadata": {},
   "outputs": [],
   "source": [
    "mrp_df.to_csv('./mrp_result.csv',index=False)"
   ]
  },
  {
   "cell_type": "code",
   "execution_count": null,
   "id": "570e041d",
   "metadata": {},
   "outputs": [],
   "source": []
  }
 ],
 "metadata": {
  "kernelspec": {
   "display_name": "Python 3 (ipykernel)",
   "language": "python",
   "name": "python3"
  },
  "language_info": {
   "codemirror_mode": {
    "name": "ipython",
    "version": 3
   },
   "file_extension": ".py",
   "mimetype": "text/x-python",
   "name": "python",
   "nbconvert_exporter": "python",
   "pygments_lexer": "ipython3",
   "version": "3.9.7"
  }
 },
 "nbformat": 4,
 "nbformat_minor": 5
}
